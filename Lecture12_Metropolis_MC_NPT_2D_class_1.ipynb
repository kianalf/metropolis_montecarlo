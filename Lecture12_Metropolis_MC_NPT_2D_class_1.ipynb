{
  "cells": [
    {
      "cell_type": "code",
      "execution_count": null,
      "id": "fd031acd",
      "metadata": {
        "id": "fd031acd"
      },
      "outputs": [],
      "source": [
        "# import python modules\n",
        "import random\n",
        "import math\n",
        "import copy\n",
        "import matplotlib.pyplot as plt\n",
        "import numpy as np\n",
        "\n",
        "%matplotlib notebook\n",
        "%matplotlib inline\n",
        "from ipywidgets import *\n",
        "#from mpl_toolkits import mplot3d\n",
        "import matplotlib as mpl"
      ]
    },
    {
      "cell_type": "code",
      "execution_count": null,
      "id": "b17f083a",
      "metadata": {
        "id": "b17f083a"
      },
      "outputs": [],
      "source": [
        "# Initialize the system\n",
        "\n",
        "# Set the number of atoms in the box\n",
        "n_atoms = 25\n",
        "\n",
        "# Set the number of Monte Carlo moves to perform\n",
        "num_moves = 10000\n",
        "\n",
        "# Set the size of the box (in Angstroms)\n",
        "L = 15;\n",
        "box_size = [ L, L]\n",
        "\n",
        "# The maximum amount that the atom can be translated by\n",
        "max_translate = 0.5    # angstroms\n",
        "\n",
        "\n",
        "# ***NPT: The maximum amount to change the volume - the\n",
        "# best value is 10% of the number of atoms\n",
        "max_volume_change = 0.1 * n_atoms   # angstroms**3\n",
        "\n",
        "#***NPT: Simulation pressure\n",
        "pressure = 1           # atmospheres\n",
        "\n",
        "#***NPT: Convert pressure to internal units (kcal mol-1 A-2)\n",
        "pressure = pressure * 1.458397506863647E-005*L\n",
        "\n",
        "# Simulation temperature\n",
        "temperature = 10 # kelvin\n",
        "\n",
        "# calculate kT\n",
        "k_boltz = 1.987206504191549E-003  # kcal mol-1 K-1\n",
        "\n",
        "kT = k_boltz * temperature\n",
        "\n",
        "# Give the Lennard Jones parameters for the atoms\n",
        "sigma = 2.41         # angstroms\n",
        "epsilon = 4.63      # kcal mol-1\n",
        "\n",
        "# colormap for coloring each atom by a different color\n",
        "t = np.arange(n_atoms)"
      ]
    },
    {
      "cell_type": "code",
      "execution_count": null,
      "id": "837192f3",
      "metadata": {
        "id": "837192f3"
      },
      "outputs": [],
      "source": [
        "# Create an array to hold the coordinates of the atoms\n",
        "coords = []\n",
        "\n",
        "# Randomly generate the coordinates of the atoms in the box\n",
        "for i in range(0,n_atoms):\n",
        "    # Note \"random.uniform(x,y)\" would generate a random number\n",
        "    # between x and y\n",
        "    coords.append( [random.uniform(0,box_size[0]), \\\n",
        "                    random.uniform(0,box_size[1])])\n",
        "    \n",
        "coords = np.array(coords)"
      ]
    },
    {
      "cell_type": "code",
      "execution_count": null,
      "id": "39ad9324",
      "metadata": {
        "id": "39ad9324"
      },
      "outputs": [],
      "source": [
        "# calculates the energies of the system using Lennard Jones potential\n",
        "\n",
        "# coords = 2 dimensional array\n",
        "# coords[i][0] = ith atom, x-position\n",
        "# coords[i][1] = ith atom, y-position\n",
        "# coords[i][2] = ith atom, z-position\n",
        "def calculate_energy(coords, n_atoms):\n",
        "    total_energy = 0\n",
        "\n",
        "    for i in range(0,n_atoms-1):\n",
        "        for j in range(i+1, n_atoms):\n",
        "            delta_x = coords[j][0] - coords[i][0]\n",
        "            delta_y = coords[j][1] - coords[i][1]\n",
        "            #delta_z = coords[j][2] - coords[i][2]\n",
        "\n",
        "            # Apply periodic boundaries\n",
        "            delta_x = make_periodic(delta_x, box_size[0])\n",
        "            delta_y = make_periodic(delta_y, box_size[1])\n",
        "            #delta_z = make_periodic(delta_z, box_size[2])\n",
        "\n",
        "            # Calculate the distance between the atoms\n",
        "            r = math.sqrt( (delta_x*delta_x) + (delta_y*delta_y)) \n",
        "            \n",
        "            # E_LJ = 4*epsilon[ (sigma/r)^12 - (sigma/r)^6 ]\n",
        "            e_lj = 4.0 * epsilon * ( (sigma/r)**12 - (sigma/r)**6 )\n",
        "\n",
        "            total_energy += e_lj\n",
        "\n",
        "    # return the total energy of the atoms\n",
        "    return total_energy"
      ]
    },
    {
      "cell_type": "code",
      "execution_count": null,
      "id": "e57fd440",
      "metadata": {
        "id": "e57fd440"
      },
      "outputs": [],
      "source": [
        "# Apply periodic boundary conditions\n",
        "\n",
        "def make_periodic(x, box):\n",
        "    \"\"\"Subroutine to apply periodic boundaries\"\"\"\n",
        "    while (x < -0.5*box):\n",
        "        x += box\n",
        "\n",
        "    while (x > 0.5*box):\n",
        "        x -= box\n",
        "\n",
        "    return x"
      ]
    },
    {
      "cell_type": "code",
      "execution_count": null,
      "id": "7397441b",
      "metadata": {
        "id": "7397441b"
      },
      "outputs": [],
      "source": [
        "# Wrap the atom positions into the box\n",
        "\n",
        "def wrap_into_box(x, box):\n",
        "    \"\"\"Subroutine to wrap the coordinates into a box\"\"\"\n",
        "    while (x > box):\n",
        "        x -= box\n",
        "\n",
        "    while (x < 0):\n",
        "        x += box\n",
        "\n",
        "    return x"
      ]
    },
    {
      "cell_type": "code",
      "execution_count": null,
      "id": "8d6bff5e",
      "metadata": {
        "colab": {
          "base_uri": "https://localhost:8080/",
          "height": 449
        },
        "id": "8d6bff5e",
        "outputId": "71ab21fb-3fed-4a72-f391-7e67ee8d6c3a"
      },
      "outputs": [
        {
          "output_type": "display_data",
          "data": {
            "text/plain": [
              "<Figure size 640x480 with 1 Axes>"
            ],
            "image/png": "[encoded data removed]"
          },
          "metadata": {}
        }
      ],
      "source": [
        "# plot figure\n",
        "\n",
        "def plot_figure(coords):\n",
        "    \n",
        "    fig = plt.figure()\n",
        "    ax = fig.add_subplot()\n",
        "    #ax = plt.axes(projection =\"3d\")\n",
        "    plt.scatter(coords[:,0],coords[:,1],s=200,c=t)\n",
        "    #line = ax.scatter3D(coords[:,0], coords[:,1],coords[:,2],color = \"green\")\n",
        "    plt.xlabel('X')\n",
        "    plt.ylabel('Y')\n",
        "    #ax.set_zlabel('Z')\n",
        "    # square plot\n",
        "    ax.set_aspect('equal', adjustable='box')\n",
        "\n",
        "    fig.canvas.draw()\n",
        "\n",
        "plot_figure(coords)"
      ]
    },
    {
      "cell_type": "code",
      "source": [
        "def write_xyz(coords,n_atoms,filename):\n",
        "  with open(filename,'w') as xyzfile:\n",
        "    xyzfile.write(\"%d\\n\\n\" % n_atoms)\n",
        "    for i in range(0,n_atoms):\n",
        "      #xyzfile.write(\"{:4} {:11.6f} {:11.6f} {:11.6f}\\n\".format(\"Fe\",coords[i,0],coords[i,1],coords[i,2]))\n",
        "      xyzfile.write(\"{:4} {:11.6f} {:11.6f} {:11.6f}\\n\".format(\"Fe\",coords[i,0],coords[i,1],0.0))\n",
        "  "
      ],
      "metadata": {
        "id": "4Z5zxMlHHZOn"
      },
      "id": "4Z5zxMlHHZOn",
      "execution_count": null,
      "outputs": []
    },
    {
      "cell_type": "code",
      "execution_count": null,
      "id": "98727a47",
      "metadata": {
        "id": "98727a47"
      },
      "outputs": [],
      "source": [
        "def montecarlo(num_moves, box_size,n_atoms,coords, kT):\n",
        "    \n",
        "    # The total number of accepted move\n",
        "    naccept = 0\n",
        "\n",
        "    # The total number of rejected moves\n",
        "    nreject = 0\n",
        "\n",
        "    energy_all = []\n",
        "    density_all=[]\n",
        "    # ***NPT: The maximum amount to change the volume - the\n",
        "    # best value is 10% of the number of atoms\n",
        "    max_volume_change = 0.1 * n_atoms   # angstroms**3\n",
        "\n",
        "    # Now perform all of the moves\n",
        "    for move in range(1,num_moves+1):\n",
        "\n",
        "        # calculate the old energy\n",
        "        old_energy = calculate_energy(coords, n_atoms)\n",
        "\n",
        "        # ***NPT: save the old box dimensions\n",
        "        old_box_size = copy.deepcopy(box_size)\n",
        "\n",
        "        # ***NPT: calculate the old volume of the box\n",
        "        V_old = box_size[0] * box_size[1]\n",
        "\n",
        "        # Pick a random atom (random.randint(x,y) picks a random\n",
        "        # integer between x and y, including x and y)\n",
        "        atom = random.randint(0, n_atoms-1)\n",
        "\n",
        "        # save the old coordinates\n",
        "        old_coords = copy.deepcopy(coords)\n",
        "\n",
        "           #***NPT: Decide if we are performing an atom move, or a volume move\n",
        "        if random.uniform(0.0,1.0) <= (1.0 / n_atoms):\n",
        "            # 1 in n_atoms chance of being here. Perform a volume move\n",
        "            # by changing the volume for a random amount\n",
        "            delta_vol = random.uniform(-max_volume_change, max_volume_change)\n",
        "\n",
        "            # calculate the new volume\n",
        "            V_new = V_old + delta_vol\n",
        "\n",
        "            # The new box length is the cube root of the volume\n",
        "            box_side = V_new**(1.0/2.0)\n",
        "\n",
        "            # The amount to scale each atom from the center is \n",
        "            # the cube root of the ratio of the new and old volumes\n",
        "            scale_ratio = ( V_new / V_old )**(1.0/2.0)\n",
        "\n",
        "            # now translate every atom so that it is scaled from the center \n",
        "            # of the box\n",
        "            for i in range(0,n_atoms):\n",
        "                dx = coords[i][0] - (0.5*box_size[0])\n",
        "                dy = coords[i][1] - (0.5*box_size[1])\n",
        "                #dz = coords[i][2] - (0.5*box_size[2])\n",
        "\n",
        "                length = math.sqrt(dx*dx + dy*dy)\n",
        "\n",
        "                if length > 0.01:   # don't scale atoms already near the center\n",
        "                    dx /= length\n",
        "                    dy /= length\n",
        "                    #dz /= length\n",
        "\n",
        "                    # now scale the distance from the atom to the box center \n",
        "                    # by 'scale_ratio'\n",
        "                    length *= scale_ratio\n",
        "\n",
        "                    # move the atom to its new location\n",
        "                    coords[i][0] = (0.5*box_size[0]) + dx*length\n",
        "                    coords[i][1] = (0.5*box_size[1]) + dy*length\n",
        "                    #coords[i][2] = (0.5*box_size[2]) + dz*length\n",
        "\n",
        "            box_size[0] = box_side\n",
        "            box_size[1] = box_side\n",
        "            #box_size[2] = box_side\n",
        "\n",
        "        else:\n",
        "            #*** same as in the NVT simulation\n",
        "            # Make the move - translate by a delta in each dimension\n",
        "            delta_x = random.uniform( -max_translate, max_translate )\n",
        "            delta_y = random.uniform( -max_translate, max_translate )\n",
        "            #delta_z = random.uniform( -max_translate, max_translate )\n",
        "\n",
        "            coords[atom][0] += delta_x\n",
        "            coords[atom][1] += delta_y\n",
        "            #coords[atom][2] += delta_z\n",
        "\n",
        "            # wrap the coordinates back into the box\n",
        "            coords[atom][0] = wrap_into_box(coords[atom][0], box_size[0])\n",
        "            coords[atom][1] = wrap_into_box(coords[atom][1], box_size[1])\n",
        "            #coords[atom][2] = wrap_into_box(coords[atom][2], box_size[2])\n",
        "\n",
        "        # calculate the new energy\n",
        "        new_energy = calculate_energy(coords, n_atoms)\n",
        "\n",
        "        # ***NPT: calculate the new volume of the box\n",
        "        V_new = box_size[0] * box_size[1]\n",
        "\n",
        "        accept = False\n",
        "\n",
        "        # Apply Metropolis crierion\n",
        "        # Automatically accept if the energy goes down \n",
        "        if (new_energy <= old_energy):\n",
        "            accept = True\n",
        "        # If energy goe\n",
        "\n",
        "        else:\n",
        "            # Now apply the Monte Carlo test - compare\n",
        "            # exp( -(E_new - E_old) / kT ) >= rand(0,1)\n",
        "            #x = math.exp( -(new_energy - old_energy) / kT )\n",
        "\n",
        "            # ***NPT: Now apply the Monte Carlo test - compare\n",
        "            # exp( -( \\delta E - p \\delta V ) / kT  +  N \\delta ln V ) >= rand(0,1)\n",
        "            # assume ideal gas for the entropy change\n",
        "            TdS =  n_atoms * kT* math.log(V_new/V_old);\n",
        "            dH = new_energy - old_energy + pressure * (V_new - V_old)\n",
        "            dG = dH - TdS\n",
        "            x = math.exp( -dG / kT )\n",
        "\n",
        "            if (x >= random.uniform(0.0,1.0)):\n",
        "                accept = True\n",
        "            else:\n",
        "                accept = False\n",
        "\n",
        "        if accept:\n",
        "            # accept the move\n",
        "            naccept += 1\n",
        "            total_energy = new_energy\n",
        "        else:\n",
        "            # reject the move - restore the old coordinates\n",
        "            nreject += 1\n",
        "\n",
        "            # restore the old conformation\n",
        "            coords = copy.deepcopy(old_coords)\n",
        "\n",
        "            #***NPT\n",
        "            box_size = copy.deepcopy(old_box_size)\n",
        "\n",
        "            total_energy = old_energy\n",
        "         \n",
        "        density = n_atoms/(box_size[0]*box_size[1])\n",
        "        energy_all.append(total_energy)\n",
        "        density_all.append(density)\n",
        "        # print the energy every 10 moves\n",
        "        '''\n",
        "        if move % 10 == 0:\n",
        "            print(\"%s %s  %s  %s\" % (move, total_energy, naccept, nreject))\n",
        "            print(\"Box size = %sx%sx. Volume = %s A^2\" % \\\n",
        "                     (box_size[0], box_size[1], box_size[0]*box_size[1]))\n",
        "        '''\n",
        "    return energy_all, density_all, coords"
      ]
    },
    {
      "cell_type": "code",
      "execution_count": null,
      "id": "9a45ac04",
      "metadata": {
        "colab": {
          "base_uri": "https://localhost:8080/"
        },
        "id": "9a45ac04",
        "outputId": "aa972243-83ea-4144-9256-e99e7f8d61ab"
      },
      "outputs": [
        {
          "output_type": "stream",
          "name": "stdout",
          "text": [
            "Temp 10 trial 0\n",
            "Temp 300 trial 0\n",
            "Temp 3000 trial 0\n",
            "[[-246.42098393]\n",
            " [-257.06227323]\n",
            " [-208.08263795]]\n",
            "[[0.11121275]\n",
            " [0.10965527]\n",
            " [0.11159804]]\n"
          ]
        }
      ],
      "source": [
        "num_moves = 1000\n",
        "Ntrial = 1\n",
        "T_all = [10, 300, 3000]\n",
        "final_energy = np.zeros((len(T_all),Ntrial))\n",
        "final_density = np.zeros((len(T_all),Ntrial))\n",
        "\n",
        "for t in range(0,len(T_all)):\n",
        "    temp = T_all[t]\n",
        "    kT = k_boltz*temp\n",
        "    for i in range(0,Ntrial):\n",
        "        print(\"Temp\", temp, \"trial\",i)\n",
        "        energy_all, density_all, coords=montecarlo(num_moves, box_size,n_atoms,coords, kT)\n",
        "        final_energy[t,i]=energy_all[-1]\n",
        "        final_density[t,i]=density_all[-1]\n",
        "print(final_energy)\n",
        "print(final_density)"
      ]
    },
    {
      "cell_type": "code",
      "execution_count": null,
      "id": "3cd59738",
      "metadata": {
        "scrolled": true,
        "colab": {
          "base_uri": "https://localhost:8080/",
          "height": 447
        },
        "id": "3cd59738",
        "outputId": "cd501d27-40d2-4b7f-9407-e5699f6dbb11"
      },
      "outputs": [
        {
          "output_type": "execute_result",
          "data": {
            "text/plain": [
              "[<matplotlib.lines.Line2D at 0x7fbbbc0faa70>]"
            ]
          },
          "metadata": {},
          "execution_count": 11
        },
        {
          "output_type": "display_data",
          "data": {
            "text/plain": [
              "<Figure size 640x480 with 1 Axes>"
            ],
            "image/png": "[encoded data removed]"
          },
          "metadata": {}
        }
      ],
      "source": [
        "plt.plot(density_all[100:])"
      ]
    },
    {
      "cell_type": "code",
      "execution_count": null,
      "id": "54a022ce",
      "metadata": {
        "scrolled": true,
        "id": "54a022ce"
      },
      "outputs": [],
      "source": [
        "#plot_figure(coords)\n",
        "write_xyz(coords,n_atoms,\"test.xyz\")"
      ]
    },
    {
      "cell_type": "code",
      "execution_count": null,
      "id": "aee32755",
      "metadata": {
        "colab": {
          "base_uri": "https://localhost:8080/"
        },
        "id": "aee32755",
        "outputId": "8ef656f0-43cb-4415-df75-bd72145a0a66"
      },
      "outputs": [
        {
          "output_type": "stream",
          "name": "stdout",
          "text": [
            "[-246.42098393 -257.06227323 -208.08263795] [0. 0. 0.]\n"
          ]
        }
      ],
      "source": [
        "avg_energy = np.mean(np.array(final_energy),axis=1)\n",
        "std_energy = np.std(np.array(final_energy),axis=1)\n",
        "print(avg_energy,std_energy)"
      ]
    },
    {
      "cell_type": "code",
      "execution_count": null,
      "id": "a1186d6d",
      "metadata": {
        "colab": {
          "base_uri": "https://localhost:8080/",
          "height": 447
        },
        "id": "a1186d6d",
        "outputId": "af6a861d-b7b4-40bf-db54-4e756a083c53"
      },
      "outputs": [
        {
          "output_type": "execute_result",
          "data": {
            "text/plain": [
              "<ErrorbarContainer object of 3 artists>"
            ]
          },
          "metadata": {},
          "execution_count": 14
        },
        {
          "output_type": "display_data",
          "data": {
            "text/plain": [
              "<Figure size 640x480 with 1 Axes>"
            ],
            "image/png": "[encoded data removed]"
          },
          "metadata": {}
        }
      ],
      "source": [
        "plt.errorbar(T_all,avg_energy,yerr=std_energy)"
      ]
    },
    {
      "cell_type": "code",
      "execution_count": null,
      "id": "cf1d8bac",
      "metadata": {
        "id": "cf1d8bac"
      },
      "outputs": [],
      "source": []
    }
  ],
  "metadata": {
    "kernelspec": {
      "display_name": "Python 3 (ipykernel)",
      "language": "python",
      "name": "python3"
    },
    "language_info": {
      "codemirror_mode": {
        "name": "ipython",
        "version": 3
      },
      "file_extension": ".py",
      "mimetype": "text/x-python",
      "name": "python",
      "nbconvert_exporter": "python",
      "pygments_lexer": "ipython3",
      "version": "3.10.9"
    },
    "colab": {
      "provenance": []
    }
  },
  "nbformat": 4,
  "nbformat_minor": 5
}